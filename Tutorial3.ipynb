{
 "cells": [
  {
   "cell_type": "code",
   "execution_count": null,
   "id": "a8756ae3-aa23-471e-888a-be15e004bbf9",
   "metadata": {},
   "outputs": [],
   "source": [
    "                            * CONCEPTS COVERED *\n",
    "Pandas -  Series Operations : Index & Values and its fetching, sort_values()\n"
   ]
  },
  {
   "cell_type": "code",
   "execution_count": null,
   "id": "347b3627-1ead-4bec-b4f8-c91ce0f3968d",
   "metadata": {},
   "outputs": [],
   "source": [
    "# If we fetch single row or single column - Output will be in the form of Series\n",
    "# Series is a Data block of Data Frame\n",
    "#Series contains two parts = 1.INDEX(unique) 2.VALUES"
   ]
  },
  {
   "cell_type": "code",
   "execution_count": 1,
   "id": "d38d8b5b-92bc-4fd1-9f5c-23f04b0ba156",
   "metadata": {},
   "outputs": [],
   "source": [
    "import pandas as pd\n",
    "data=pd.read_csv('matches.csv')"
   ]
  },
  {
   "cell_type": "code",
   "execution_count": 8,
   "id": "9d22395e-4da8-4e19-9199-bfb071a47e65",
   "metadata": {},
   "outputs": [
    {
     "data": {
      "text/plain": [
       "winner\n",
       "Mumbai Indians                 92\n",
       "Chennai Super Kings            79\n",
       "Kolkata Knight Riders          77\n",
       "Royal Challengers Bangalore    73\n",
       "Kings XI Punjab                70\n",
       "Name: count, dtype: int64"
      ]
     },
     "execution_count": 8,
     "metadata": {},
     "output_type": "execute_result"
    }
   ],
   "source": [
    "myseries=data['winner'].value_counts().head()\n",
    "myseries\n",
    "#Index                        #Values"
   ]
  },
  {
   "cell_type": "code",
   "execution_count": 9,
   "id": "db150801-fef1-444b-a00d-f7cbd26a9e5b",
   "metadata": {},
   "outputs": [
    {
     "data": {
      "text/plain": [
       "Index(['Mumbai Indians', 'Chennai Super Kings', 'Kolkata Knight Riders',\n",
       "       'Royal Challengers Bangalore', 'Kings XI Punjab'],\n",
       "      dtype='object', name='winner')"
      ]
     },
     "execution_count": 9,
     "metadata": {},
     "output_type": "execute_result"
    }
   ],
   "source": [
    "myseries.index      #fetching indices"
   ]
  },
  {
   "cell_type": "code",
   "execution_count": 11,
   "id": "d6114553-5e19-4873-9a82-820d3c3fc76f",
   "metadata": {},
   "outputs": [
    {
     "data": {
      "text/plain": [
       "array([92, 79, 77, 73, 70], dtype=int64)"
      ]
     },
     "execution_count": 11,
     "metadata": {},
     "output_type": "execute_result"
    }
   ],
   "source": [
    "myseries.values     #fetching values"
   ]
  },
  {
   "cell_type": "code",
   "execution_count": 12,
   "id": "11d9fa1c-8385-4a0c-ab9a-a4594eea74db",
   "metadata": {},
   "outputs": [
    {
     "data": {
      "text/plain": [
       "winner\n",
       "Mumbai Indians                 92\n",
       "Chennai Super Kings            79\n",
       "Kolkata Knight Riders          77\n",
       "Royal Challengers Bangalore    73\n",
       "Kings XI Punjab                70\n",
       "Name: count, dtype: int64"
      ]
     },
     "execution_count": 12,
     "metadata": {},
     "output_type": "execute_result"
    }
   ],
   "source": [
    "myseries.head()"
   ]
  },
  {
   "cell_type": "code",
   "execution_count": 13,
   "id": "ec2bad11-fe39-43b4-a864-5b05864c136e",
   "metadata": {},
   "outputs": [
    {
     "data": {
      "text/plain": [
       "70"
      ]
     },
     "execution_count": 13,
     "metadata": {},
     "output_type": "execute_result"
    }
   ],
   "source": [
    "myseries['Kings XI Punjab']"
   ]
  },
  {
   "cell_type": "code",
   "execution_count": 16,
   "id": "f13d1113-89be-4740-ab0b-d0920d613f4e",
   "metadata": {},
   "outputs": [
    {
     "data": {
      "text/plain": [
       "Chennai Super Kings            131\n",
       "Deccan Chargers                 75\n",
       "Delhi Daredevils               147\n",
       "Gujarat Lions                   30\n",
       "Kings XI Punjab                148\n",
       "Kochi Tuskers Kerala            14\n",
       "Kolkata Knight Riders          148\n",
       "Mumbai Indians                 157\n",
       "Pune Warriors                   46\n",
       "Rajasthan Royals               118\n",
       "Rising Pune Supergiant          16\n",
       "Rising Pune Supergiants         14\n",
       "Royal Challengers Bangalore    152\n",
       "Sunrisers Hyderabad             76\n",
       "Name: count, dtype: int64"
      ]
     },
     "execution_count": 16,
     "metadata": {},
     "output_type": "execute_result"
    }
   ],
   "source": [
    "#No of matches played by each team as team1 and team2\n",
    "data['team1'].value_counts() + data['team2'].value_counts()"
   ]
  },
  {
   "cell_type": "code",
   "execution_count": 17,
   "id": "36bd1c74-3525-42a6-8e09-44cab3976e87",
   "metadata": {},
   "outputs": [],
   "source": [
    "#sort_values() applicable on both series and data frames"
   ]
  },
  {
   "cell_type": "code",
   "execution_count": 24,
   "id": "ba4f4c2d-cce7-4b47-a218-32df2ae396d7",
   "metadata": {},
   "outputs": [
    {
     "data": {
      "text/plain": [
       "Mumbai Indians                 157\n",
       "Royal Challengers Bangalore    152\n",
       "Kings XI Punjab                148\n",
       "Kolkata Knight Riders          148\n",
       "Delhi Daredevils               147\n",
       "Name: count, dtype: int64"
      ]
     },
     "execution_count": 24,
     "metadata": {},
     "output_type": "execute_result"
    }
   ],
   "source": [
    "# Top 5 teams that played higher no.of matches  * working on series\n",
    "(data['team1'].value_counts() + data['team2'].value_counts()).sort_values(ascending=False).head()"
   ]
  },
  {
   "cell_type": "code",
   "execution_count": 27,
   "id": "3e900914-9128-4f0e-8a61-60bc880d2329",
   "metadata": {},
   "outputs": [
    {
     "data": {
      "text/plain": [
       "312    Visakhapatnam\n",
       "622    Visakhapatnam\n",
       "615    Visakhapatnam\n",
       "612    Visakhapatnam\n",
       "624    Visakhapatnam\n",
       "Name: city, dtype: object"
      ]
     },
     "execution_count": 27,
     "metadata": {},
     "output_type": "execute_result"
    }
   ],
   "source": [
    "# working on Data Frames for 1 col\n",
    "data['city'].sort_values(ascending=False).head()  \n",
    "#data['city'].sort_values(ascending=False,inplac=True).head() = using INPLACE can change values permanently on DataSet"
   ]
  },
  {
   "cell_type": "code",
   "execution_count": 28,
   "id": "4cd54c23-738e-45da-8a69-d9659138d66a",
   "metadata": {},
   "outputs": [
    {
     "data": {
      "text/html": [
       "<div>\n",
       "<style scoped>\n",
       "    .dataframe tbody tr th:only-of-type {\n",
       "        vertical-align: middle;\n",
       "    }\n",
       "\n",
       "    .dataframe tbody tr th {\n",
       "        vertical-align: top;\n",
       "    }\n",
       "\n",
       "    .dataframe thead th {\n",
       "        text-align: right;\n",
       "    }\n",
       "</style>\n",
       "<table border=\"1\" class=\"dataframe\">\n",
       "  <thead>\n",
       "    <tr style=\"text-align: right;\">\n",
       "      <th></th>\n",
       "      <th>id</th>\n",
       "      <th>season</th>\n",
       "      <th>city</th>\n",
       "      <th>date</th>\n",
       "      <th>team1</th>\n",
       "      <th>team2</th>\n",
       "      <th>toss_winner</th>\n",
       "      <th>toss_decision</th>\n",
       "      <th>result</th>\n",
       "      <th>dl_applied</th>\n",
       "      <th>winner</th>\n",
       "      <th>win_by_runs</th>\n",
       "      <th>win_by_wickets</th>\n",
       "      <th>player_of_match</th>\n",
       "      <th>venue</th>\n",
       "      <th>umpire1</th>\n",
       "      <th>umpire2</th>\n",
       "      <th>umpire3</th>\n",
       "    </tr>\n",
       "  </thead>\n",
       "  <tbody>\n",
       "    <tr>\n",
       "      <th>457</th>\n",
       "      <td>458</td>\n",
       "      <td>2014</td>\n",
       "      <td>Abu Dhabi</td>\n",
       "      <td>2014-04-16</td>\n",
       "      <td>Kolkata Knight Riders</td>\n",
       "      <td>Mumbai Indians</td>\n",
       "      <td>Kolkata Knight Riders</td>\n",
       "      <td>bat</td>\n",
       "      <td>normal</td>\n",
       "      <td>0</td>\n",
       "      <td>Kolkata Knight Riders</td>\n",
       "      <td>41</td>\n",
       "      <td>0</td>\n",
       "      <td>JH Kallis</td>\n",
       "      <td>Sheikh Zayed Stadium</td>\n",
       "      <td>M Erasmus</td>\n",
       "      <td>RK Illingworth</td>\n",
       "      <td>NaN</td>\n",
       "    </tr>\n",
       "    <tr>\n",
       "      <th>459</th>\n",
       "      <td>460</td>\n",
       "      <td>2014</td>\n",
       "      <td>Abu Dhabi</td>\n",
       "      <td>2014-04-18</td>\n",
       "      <td>Chennai Super Kings</td>\n",
       "      <td>Kings XI Punjab</td>\n",
       "      <td>Chennai Super Kings</td>\n",
       "      <td>bat</td>\n",
       "      <td>normal</td>\n",
       "      <td>0</td>\n",
       "      <td>Kings XI Punjab</td>\n",
       "      <td>0</td>\n",
       "      <td>6</td>\n",
       "      <td>GJ Maxwell</td>\n",
       "      <td>Sheikh Zayed Stadium</td>\n",
       "      <td>RK Illingworth</td>\n",
       "      <td>C Shamshuddin</td>\n",
       "      <td>NaN</td>\n",
       "    </tr>\n",
       "    <tr>\n",
       "      <th>460</th>\n",
       "      <td>461</td>\n",
       "      <td>2014</td>\n",
       "      <td>Abu Dhabi</td>\n",
       "      <td>2014-04-18</td>\n",
       "      <td>Sunrisers Hyderabad</td>\n",
       "      <td>Rajasthan Royals</td>\n",
       "      <td>Rajasthan Royals</td>\n",
       "      <td>field</td>\n",
       "      <td>normal</td>\n",
       "      <td>0</td>\n",
       "      <td>Rajasthan Royals</td>\n",
       "      <td>0</td>\n",
       "      <td>4</td>\n",
       "      <td>AM Rahane</td>\n",
       "      <td>Sheikh Zayed Stadium</td>\n",
       "      <td>BF Bowden</td>\n",
       "      <td>RK Illingworth</td>\n",
       "      <td>NaN</td>\n",
       "    </tr>\n",
       "    <tr>\n",
       "      <th>464</th>\n",
       "      <td>465</td>\n",
       "      <td>2014</td>\n",
       "      <td>Abu Dhabi</td>\n",
       "      <td>2014-04-21</td>\n",
       "      <td>Chennai Super Kings</td>\n",
       "      <td>Delhi Daredevils</td>\n",
       "      <td>Chennai Super Kings</td>\n",
       "      <td>bat</td>\n",
       "      <td>normal</td>\n",
       "      <td>0</td>\n",
       "      <td>Chennai Super Kings</td>\n",
       "      <td>93</td>\n",
       "      <td>0</td>\n",
       "      <td>SK Raina</td>\n",
       "      <td>Sheikh Zayed Stadium</td>\n",
       "      <td>RK Illingworth</td>\n",
       "      <td>C Shamshuddin</td>\n",
       "      <td>NaN</td>\n",
       "    </tr>\n",
       "    <tr>\n",
       "      <th>470</th>\n",
       "      <td>471</td>\n",
       "      <td>2014</td>\n",
       "      <td>Abu Dhabi</td>\n",
       "      <td>2014-04-26</td>\n",
       "      <td>Royal Challengers Bangalore</td>\n",
       "      <td>Rajasthan Royals</td>\n",
       "      <td>Rajasthan Royals</td>\n",
       "      <td>field</td>\n",
       "      <td>normal</td>\n",
       "      <td>0</td>\n",
       "      <td>Rajasthan Royals</td>\n",
       "      <td>0</td>\n",
       "      <td>6</td>\n",
       "      <td>PV Tambe</td>\n",
       "      <td>Sheikh Zayed Stadium</td>\n",
       "      <td>HDPK Dharmasena</td>\n",
       "      <td>C Shamshuddin</td>\n",
       "      <td>NaN</td>\n",
       "    </tr>\n",
       "  </tbody>\n",
       "</table>\n",
       "</div>"
      ],
      "text/plain": [
       "      id  season       city        date                        team1  \\\n",
       "457  458    2014  Abu Dhabi  2014-04-16        Kolkata Knight Riders   \n",
       "459  460    2014  Abu Dhabi  2014-04-18          Chennai Super Kings   \n",
       "460  461    2014  Abu Dhabi  2014-04-18          Sunrisers Hyderabad   \n",
       "464  465    2014  Abu Dhabi  2014-04-21          Chennai Super Kings   \n",
       "470  471    2014  Abu Dhabi  2014-04-26  Royal Challengers Bangalore   \n",
       "\n",
       "                team2            toss_winner toss_decision  result  \\\n",
       "457    Mumbai Indians  Kolkata Knight Riders           bat  normal   \n",
       "459   Kings XI Punjab    Chennai Super Kings           bat  normal   \n",
       "460  Rajasthan Royals       Rajasthan Royals         field  normal   \n",
       "464  Delhi Daredevils    Chennai Super Kings           bat  normal   \n",
       "470  Rajasthan Royals       Rajasthan Royals         field  normal   \n",
       "\n",
       "     dl_applied                 winner  win_by_runs  win_by_wickets  \\\n",
       "457           0  Kolkata Knight Riders           41               0   \n",
       "459           0        Kings XI Punjab            0               6   \n",
       "460           0       Rajasthan Royals            0               4   \n",
       "464           0    Chennai Super Kings           93               0   \n",
       "470           0       Rajasthan Royals            0               6   \n",
       "\n",
       "    player_of_match                 venue          umpire1         umpire2  \\\n",
       "457       JH Kallis  Sheikh Zayed Stadium        M Erasmus  RK Illingworth   \n",
       "459      GJ Maxwell  Sheikh Zayed Stadium   RK Illingworth   C Shamshuddin   \n",
       "460       AM Rahane  Sheikh Zayed Stadium        BF Bowden  RK Illingworth   \n",
       "464        SK Raina  Sheikh Zayed Stadium   RK Illingworth   C Shamshuddin   \n",
       "470        PV Tambe  Sheikh Zayed Stadium  HDPK Dharmasena   C Shamshuddin   \n",
       "\n",
       "     umpire3  \n",
       "457      NaN  \n",
       "459      NaN  \n",
       "460      NaN  \n",
       "464      NaN  \n",
       "470      NaN  "
      ]
     },
     "execution_count": 28,
     "metadata": {},
     "output_type": "execute_result"
    }
   ],
   "source": [
    "# working on Data Frames for >1 col\n",
    "data.sort_values(['city','date']).head()"
   ]
  },
  {
   "cell_type": "code",
   "execution_count": 29,
   "id": "0608feb7-45cf-4932-be6d-11363abbf7e6",
   "metadata": {},
   "outputs": [
    {
     "data": {
      "text/html": [
       "<div>\n",
       "<style scoped>\n",
       "    .dataframe tbody tr th:only-of-type {\n",
       "        vertical-align: middle;\n",
       "    }\n",
       "\n",
       "    .dataframe tbody tr th {\n",
       "        vertical-align: top;\n",
       "    }\n",
       "\n",
       "    .dataframe thead th {\n",
       "        text-align: right;\n",
       "    }\n",
       "</style>\n",
       "<table border=\"1\" class=\"dataframe\">\n",
       "  <thead>\n",
       "    <tr style=\"text-align: right;\">\n",
       "      <th></th>\n",
       "      <th>id</th>\n",
       "      <th>season</th>\n",
       "      <th>city</th>\n",
       "      <th>date</th>\n",
       "      <th>team1</th>\n",
       "      <th>team2</th>\n",
       "      <th>toss_winner</th>\n",
       "      <th>toss_decision</th>\n",
       "      <th>result</th>\n",
       "      <th>dl_applied</th>\n",
       "      <th>winner</th>\n",
       "      <th>win_by_runs</th>\n",
       "      <th>win_by_wickets</th>\n",
       "      <th>player_of_match</th>\n",
       "      <th>venue</th>\n",
       "      <th>umpire1</th>\n",
       "      <th>umpire2</th>\n",
       "      <th>umpire3</th>\n",
       "    </tr>\n",
       "  </thead>\n",
       "  <tbody>\n",
       "    <tr>\n",
       "      <th>475</th>\n",
       "      <td>476</td>\n",
       "      <td>2014</td>\n",
       "      <td>Abu Dhabi</td>\n",
       "      <td>2014-04-29</td>\n",
       "      <td>Rajasthan Royals</td>\n",
       "      <td>Kolkata Knight Riders</td>\n",
       "      <td>Rajasthan Royals</td>\n",
       "      <td>bat</td>\n",
       "      <td>tie</td>\n",
       "      <td>0</td>\n",
       "      <td>Rajasthan Royals</td>\n",
       "      <td>0</td>\n",
       "      <td>0</td>\n",
       "      <td>JP Faulkner</td>\n",
       "      <td>Sheikh Zayed Stadium</td>\n",
       "      <td>Aleem Dar</td>\n",
       "      <td>AK Chaudhary</td>\n",
       "      <td>NaN</td>\n",
       "    </tr>\n",
       "    <tr>\n",
       "      <th>470</th>\n",
       "      <td>471</td>\n",
       "      <td>2014</td>\n",
       "      <td>Abu Dhabi</td>\n",
       "      <td>2014-04-26</td>\n",
       "      <td>Royal Challengers Bangalore</td>\n",
       "      <td>Rajasthan Royals</td>\n",
       "      <td>Rajasthan Royals</td>\n",
       "      <td>field</td>\n",
       "      <td>normal</td>\n",
       "      <td>0</td>\n",
       "      <td>Rajasthan Royals</td>\n",
       "      <td>0</td>\n",
       "      <td>6</td>\n",
       "      <td>PV Tambe</td>\n",
       "      <td>Sheikh Zayed Stadium</td>\n",
       "      <td>HDPK Dharmasena</td>\n",
       "      <td>C Shamshuddin</td>\n",
       "      <td>NaN</td>\n",
       "    </tr>\n",
       "    <tr>\n",
       "      <th>471</th>\n",
       "      <td>472</td>\n",
       "      <td>2014</td>\n",
       "      <td>Abu Dhabi</td>\n",
       "      <td>2014-04-26</td>\n",
       "      <td>Kings XI Punjab</td>\n",
       "      <td>Kolkata Knight Riders</td>\n",
       "      <td>Kolkata Knight Riders</td>\n",
       "      <td>field</td>\n",
       "      <td>normal</td>\n",
       "      <td>0</td>\n",
       "      <td>Kings XI Punjab</td>\n",
       "      <td>23</td>\n",
       "      <td>0</td>\n",
       "      <td>Sandeep Sharma</td>\n",
       "      <td>Sheikh Zayed Stadium</td>\n",
       "      <td>HDPK Dharmasena</td>\n",
       "      <td>RK Illingworth</td>\n",
       "      <td>NaN</td>\n",
       "    </tr>\n",
       "    <tr>\n",
       "      <th>464</th>\n",
       "      <td>465</td>\n",
       "      <td>2014</td>\n",
       "      <td>Abu Dhabi</td>\n",
       "      <td>2014-04-21</td>\n",
       "      <td>Chennai Super Kings</td>\n",
       "      <td>Delhi Daredevils</td>\n",
       "      <td>Chennai Super Kings</td>\n",
       "      <td>bat</td>\n",
       "      <td>normal</td>\n",
       "      <td>0</td>\n",
       "      <td>Chennai Super Kings</td>\n",
       "      <td>93</td>\n",
       "      <td>0</td>\n",
       "      <td>SK Raina</td>\n",
       "      <td>Sheikh Zayed Stadium</td>\n",
       "      <td>RK Illingworth</td>\n",
       "      <td>C Shamshuddin</td>\n",
       "      <td>NaN</td>\n",
       "    </tr>\n",
       "    <tr>\n",
       "      <th>459</th>\n",
       "      <td>460</td>\n",
       "      <td>2014</td>\n",
       "      <td>Abu Dhabi</td>\n",
       "      <td>2014-04-18</td>\n",
       "      <td>Chennai Super Kings</td>\n",
       "      <td>Kings XI Punjab</td>\n",
       "      <td>Chennai Super Kings</td>\n",
       "      <td>bat</td>\n",
       "      <td>normal</td>\n",
       "      <td>0</td>\n",
       "      <td>Kings XI Punjab</td>\n",
       "      <td>0</td>\n",
       "      <td>6</td>\n",
       "      <td>GJ Maxwell</td>\n",
       "      <td>Sheikh Zayed Stadium</td>\n",
       "      <td>RK Illingworth</td>\n",
       "      <td>C Shamshuddin</td>\n",
       "      <td>NaN</td>\n",
       "    </tr>\n",
       "  </tbody>\n",
       "</table>\n",
       "</div>"
      ],
      "text/plain": [
       "      id  season       city        date                        team1  \\\n",
       "475  476    2014  Abu Dhabi  2014-04-29             Rajasthan Royals   \n",
       "470  471    2014  Abu Dhabi  2014-04-26  Royal Challengers Bangalore   \n",
       "471  472    2014  Abu Dhabi  2014-04-26              Kings XI Punjab   \n",
       "464  465    2014  Abu Dhabi  2014-04-21          Chennai Super Kings   \n",
       "459  460    2014  Abu Dhabi  2014-04-18          Chennai Super Kings   \n",
       "\n",
       "                     team2            toss_winner toss_decision  result  \\\n",
       "475  Kolkata Knight Riders       Rajasthan Royals           bat     tie   \n",
       "470       Rajasthan Royals       Rajasthan Royals         field  normal   \n",
       "471  Kolkata Knight Riders  Kolkata Knight Riders         field  normal   \n",
       "464       Delhi Daredevils    Chennai Super Kings           bat  normal   \n",
       "459        Kings XI Punjab    Chennai Super Kings           bat  normal   \n",
       "\n",
       "     dl_applied               winner  win_by_runs  win_by_wickets  \\\n",
       "475           0     Rajasthan Royals            0               0   \n",
       "470           0     Rajasthan Royals            0               6   \n",
       "471           0      Kings XI Punjab           23               0   \n",
       "464           0  Chennai Super Kings           93               0   \n",
       "459           0      Kings XI Punjab            0               6   \n",
       "\n",
       "    player_of_match                 venue          umpire1         umpire2  \\\n",
       "475     JP Faulkner  Sheikh Zayed Stadium        Aleem Dar    AK Chaudhary   \n",
       "470        PV Tambe  Sheikh Zayed Stadium  HDPK Dharmasena   C Shamshuddin   \n",
       "471  Sandeep Sharma  Sheikh Zayed Stadium  HDPK Dharmasena  RK Illingworth   \n",
       "464        SK Raina  Sheikh Zayed Stadium   RK Illingworth   C Shamshuddin   \n",
       "459      GJ Maxwell  Sheikh Zayed Stadium   RK Illingworth   C Shamshuddin   \n",
       "\n",
       "     umpire3  \n",
       "475      NaN  \n",
       "470      NaN  \n",
       "471      NaN  \n",
       "464      NaN  \n",
       "459      NaN  "
      ]
     },
     "execution_count": 29,
     "metadata": {},
     "output_type": "execute_result"
    }
   ],
   "source": [
    "data.sort_values(['city','date'],ascending=[True,False]).head() #City=Ascending, Date=Descending"
   ]
  },
  {
   "cell_type": "code",
   "execution_count": null,
   "id": "93632078-b06d-464a-af54-265e985a7a62",
   "metadata": {},
   "outputs": [],
   "source": []
  }
 ],
 "metadata": {
  "kernelspec": {
   "display_name": "Python 3 (ipykernel)",
   "language": "python",
   "name": "python3"
  },
  "language_info": {
   "codemirror_mode": {
    "name": "ipython",
    "version": 3
   },
   "file_extension": ".py",
   "mimetype": "text/x-python",
   "name": "python",
   "nbconvert_exporter": "python",
   "pygments_lexer": "ipython3",
   "version": "3.12.4"
  }
 },
 "nbformat": 4,
 "nbformat_minor": 5
}
