{
 "cells": [
  {
   "cell_type": "code",
   "execution_count": null,
   "id": "bfb33e10-3b4a-453b-bfbb-7811584fb4ec",
   "metadata": {},
   "outputs": [],
   "source": [
    "                                * CONCEPTS COVERED *\n",
    "Pandas - groupby(), isin()"
   ]
  },
  {
   "cell_type": "code",
   "execution_count": 1,
   "id": "91f8a023-0d56-40fb-a095-49c3817e5fcf",
   "metadata": {},
   "outputs": [],
   "source": [
    "import pandas as pd"
   ]
  },
  {
   "cell_type": "code",
   "execution_count": 36,
   "id": "3617a384-7108-4651-8435-64c345df80ba",
   "metadata": {},
   "outputs": [
    {
     "data": {
      "text/html": [
       "<div>\n",
       "<style scoped>\n",
       "    .dataframe tbody tr th:only-of-type {\n",
       "        vertical-align: middle;\n",
       "    }\n",
       "\n",
       "    .dataframe tbody tr th {\n",
       "        vertical-align: top;\n",
       "    }\n",
       "\n",
       "    .dataframe thead th {\n",
       "        text-align: right;\n",
       "    }\n",
       "</style>\n",
       "<table border=\"1\" class=\"dataframe\">\n",
       "  <thead>\n",
       "    <tr style=\"text-align: right;\">\n",
       "      <th></th>\n",
       "      <th>lon</th>\n",
       "      <th>lat</th>\n",
       "      <th>company</th>\n",
       "      <th>location</th>\n",
       "      <th>industry</th>\n",
       "      <th>state</th>\n",
       "      <th>city</th>\n",
       "    </tr>\n",
       "  </thead>\n",
       "  <tbody>\n",
       "    <tr>\n",
       "      <th>0</th>\n",
       "      <td>-94.2088</td>\n",
       "      <td>36.3729</td>\n",
       "      <td>Walmart</td>\n",
       "      <td>Bentonville, AR</td>\n",
       "      <td>General Merchandisers</td>\n",
       "      <td>AR</td>\n",
       "      <td>Bentonville</td>\n",
       "    </tr>\n",
       "    <tr>\n",
       "      <th>1</th>\n",
       "      <td>-96.9489</td>\n",
       "      <td>32.8140</td>\n",
       "      <td>Exxon Mobil</td>\n",
       "      <td>Irving, TX</td>\n",
       "      <td>Petroleum Refining</td>\n",
       "      <td>TX</td>\n",
       "      <td>Irving</td>\n",
       "    </tr>\n",
       "    <tr>\n",
       "      <th>2</th>\n",
       "      <td>-121.9780</td>\n",
       "      <td>37.7799</td>\n",
       "      <td>Chevron</td>\n",
       "      <td>San Ramon, CA</td>\n",
       "      <td>Petroleum Refining</td>\n",
       "      <td>CA</td>\n",
       "      <td>San Ramon</td>\n",
       "    </tr>\n",
       "    <tr>\n",
       "      <th>3</th>\n",
       "      <td>-95.9980</td>\n",
       "      <td>41.2524</td>\n",
       "      <td>Berkshire Hathaway</td>\n",
       "      <td>Omaha, NE</td>\n",
       "      <td>Insurance: Property and Casualty (Stock)</td>\n",
       "      <td>NE</td>\n",
       "      <td>Omaha</td>\n",
       "    </tr>\n",
       "    <tr>\n",
       "      <th>4</th>\n",
       "      <td>-122.0320</td>\n",
       "      <td>37.3230</td>\n",
       "      <td>Apple</td>\n",
       "      <td>Cupertino, CA</td>\n",
       "      <td>Computers, Office Equipment</td>\n",
       "      <td>CA</td>\n",
       "      <td>Cupertino</td>\n",
       "    </tr>\n",
       "  </tbody>\n",
       "</table>\n",
       "</div>"
      ],
      "text/plain": [
       "        lon      lat             company         location  \\\n",
       "0  -94.2088  36.3729             Walmart  Bentonville, AR   \n",
       "1  -96.9489  32.8140         Exxon Mobil       Irving, TX   \n",
       "2 -121.9780  37.7799             Chevron    San Ramon, CA   \n",
       "3  -95.9980  41.2524  Berkshire Hathaway        Omaha, NE   \n",
       "4 -122.0320  37.3230               Apple    Cupertino, CA   \n",
       "\n",
       "                                   industry state         city  \n",
       "0                     General Merchandisers    AR  Bentonville  \n",
       "1                        Petroleum Refining    TX       Irving  \n",
       "2                        Petroleum Refining    CA    San Ramon  \n",
       "3  Insurance: Property and Casualty (Stock)    NE        Omaha  \n",
       "4               Computers, Office Equipment    CA    Cupertino  "
      ]
     },
     "execution_count": 36,
     "metadata": {},
     "output_type": "execute_result"
    }
   ],
   "source": [
    "company=pd.read_csv('fortune500.csv')\n",
    "company.head(5)"
   ]
  },
  {
   "cell_type": "code",
   "execution_count": 12,
   "id": "e37d94aa-056e-4346-bdd4-65bdab2fbb25",
   "metadata": {},
   "outputs": [
    {
     "data": {
      "text/plain": [
       "<pandas.core.groupby.generic.DataFrameGroupBy object at 0x000002D14BBC5430>"
      ]
     },
     "execution_count": 12,
     "metadata": {},
     "output_type": "execute_result"
    }
   ],
   "source": [
    "industries=company.groupby('industry')\n",
    "industries"
   ]
  },
  {
   "cell_type": "code",
   "execution_count": 13,
   "id": "3b5f24db-faba-4152-adc9-72131c625ac3",
   "metadata": {},
   "outputs": [
    {
     "data": {
      "text/plain": [
       "(1000, 7)"
      ]
     },
     "execution_count": 13,
     "metadata": {},
     "output_type": "execute_result"
    }
   ],
   "source": [
    "company.shape"
   ]
  },
  {
   "cell_type": "code",
   "execution_count": 17,
   "id": "78155d8a-7b3f-49cc-9485-821f0dead038",
   "metadata": {},
   "outputs": [
    {
     "data": {
      "text/plain": [
       "industry\n",
       "Specialty Retailers: Other                  43\n",
       "Utilities: Gas and Electric                 39\n",
       "Mining, Crude-Oil Production                35\n",
       "Chemicals                                   34\n",
       "Insurance: Property and Casualty (Stock)    28\n",
       "                                            ..\n",
       "Forest and Paper Products                    4\n",
       "Education                                    3\n",
       "Toys, Sporting Goods                         2\n",
       "Mail, Package, and Freight Delivery          2\n",
       "Advertising, marketing                       2\n",
       "Length: 74, dtype: int64"
      ]
     },
     "execution_count": 17,
     "metadata": {},
     "output_type": "execute_result"
    }
   ],
   "source": [
    "industries.size().sort_values(ascending=False)"
   ]
  },
  {
   "cell_type": "code",
   "execution_count": 16,
   "id": "5cf380c7-cd40-4357-a24d-20910040e093",
   "metadata": {},
   "outputs": [
    {
     "data": {
      "text/plain": [
       "74"
      ]
     },
     "execution_count": 16,
     "metadata": {},
     "output_type": "execute_result"
    }
   ],
   "source": [
    "len(industries)"
   ]
  },
  {
   "cell_type": "code",
   "execution_count": 37,
   "id": "1496f781-55fa-4d3d-9d33-319819878417",
   "metadata": {},
   "outputs": [
    {
     "data": {
      "text/html": [
       "<div>\n",
       "<style scoped>\n",
       "    .dataframe tbody tr th:only-of-type {\n",
       "        vertical-align: middle;\n",
       "    }\n",
       "\n",
       "    .dataframe tbody tr th {\n",
       "        vertical-align: top;\n",
       "    }\n",
       "\n",
       "    .dataframe thead th {\n",
       "        text-align: right;\n",
       "    }\n",
       "</style>\n",
       "<table border=\"1\" class=\"dataframe\">\n",
       "  <thead>\n",
       "    <tr style=\"text-align: right;\">\n",
       "      <th></th>\n",
       "      <th>lon</th>\n",
       "      <th>lat</th>\n",
       "      <th>company</th>\n",
       "      <th>location</th>\n",
       "      <th>state</th>\n",
       "      <th>city</th>\n",
       "    </tr>\n",
       "    <tr>\n",
       "      <th>industry</th>\n",
       "      <th></th>\n",
       "      <th></th>\n",
       "      <th></th>\n",
       "      <th></th>\n",
       "      <th></th>\n",
       "      <th></th>\n",
       "    </tr>\n",
       "  </thead>\n",
       "  <tbody>\n",
       "    <tr>\n",
       "      <th>Advertising, marketing</th>\n",
       "      <td>-74.0059</td>\n",
       "      <td>40.7128</td>\n",
       "      <td>Omnicom Group</td>\n",
       "      <td>New York, NY</td>\n",
       "      <td>NY</td>\n",
       "      <td>New York</td>\n",
       "    </tr>\n",
       "    <tr>\n",
       "      <th>Aerospace and Defense</th>\n",
       "      <td>-87.6298</td>\n",
       "      <td>41.8781</td>\n",
       "      <td>Boeing</td>\n",
       "      <td>Chicago, IL</td>\n",
       "      <td>IL</td>\n",
       "      <td>Chicago</td>\n",
       "    </tr>\n",
       "    <tr>\n",
       "      <th>Airlines</th>\n",
       "      <td>-97.3308</td>\n",
       "      <td>32.7555</td>\n",
       "      <td>American Airlines Group</td>\n",
       "      <td>Fort Worth, TX</td>\n",
       "      <td>TX</td>\n",
       "      <td>Fort Worth</td>\n",
       "    </tr>\n",
       "    <tr>\n",
       "      <th>Apparel</th>\n",
       "      <td>-122.8040</td>\n",
       "      <td>45.4871</td>\n",
       "      <td>Nike</td>\n",
       "      <td>Beaverton, OR</td>\n",
       "      <td>OR</td>\n",
       "      <td>Beaverton</td>\n",
       "    </tr>\n",
       "    <tr>\n",
       "      <th>Automotive Retailing, Services</th>\n",
       "      <td>-80.1373</td>\n",
       "      <td>26.1224</td>\n",
       "      <td>AutoNation</td>\n",
       "      <td>Fort Lauderdale, FL</td>\n",
       "      <td>FL</td>\n",
       "      <td>Fort Lauderdale</td>\n",
       "    </tr>\n",
       "  </tbody>\n",
       "</table>\n",
       "</div>"
      ],
      "text/plain": [
       "                                     lon      lat                  company  \\\n",
       "industry                                                                     \n",
       "Advertising, marketing          -74.0059  40.7128            Omnicom Group   \n",
       "Aerospace and Defense           -87.6298  41.8781                   Boeing   \n",
       "Airlines                        -97.3308  32.7555  American Airlines Group   \n",
       "Apparel                        -122.8040  45.4871                     Nike   \n",
       "Automotive Retailing, Services  -80.1373  26.1224               AutoNation   \n",
       "\n",
       "                                           location state             city  \n",
       "industry                                                                    \n",
       "Advertising, marketing                 New York, NY    NY         New York  \n",
       "Aerospace and Defense                   Chicago, IL    IL          Chicago  \n",
       "Airlines                             Fort Worth, TX    TX       Fort Worth  \n",
       "Apparel                               Beaverton, OR    OR        Beaverton  \n",
       "Automotive Retailing, Services  Fort Lauderdale, FL    FL  Fort Lauderdale  "
      ]
     },
     "execution_count": 37,
     "metadata": {},
     "output_type": "execute_result"
    }
   ],
   "source": [
    "industries.first().head()"
   ]
  },
  {
   "cell_type": "code",
   "execution_count": 19,
   "id": "ed57e79d-863a-44f6-a3bc-e72e2ca677d0",
   "metadata": {},
   "outputs": [
    {
     "data": {
      "text/html": [
       "<div>\n",
       "<style scoped>\n",
       "    .dataframe tbody tr th:only-of-type {\n",
       "        vertical-align: middle;\n",
       "    }\n",
       "\n",
       "    .dataframe tbody tr th {\n",
       "        vertical-align: top;\n",
       "    }\n",
       "\n",
       "    .dataframe thead th {\n",
       "        text-align: right;\n",
       "    }\n",
       "</style>\n",
       "<table border=\"1\" class=\"dataframe\">\n",
       "  <thead>\n",
       "    <tr style=\"text-align: right;\">\n",
       "      <th></th>\n",
       "      <th>lon</th>\n",
       "      <th>lat</th>\n",
       "      <th>company</th>\n",
       "      <th>location</th>\n",
       "      <th>state</th>\n",
       "      <th>city</th>\n",
       "    </tr>\n",
       "    <tr>\n",
       "      <th>industry</th>\n",
       "      <th></th>\n",
       "      <th></th>\n",
       "      <th></th>\n",
       "      <th></th>\n",
       "      <th></th>\n",
       "      <th></th>\n",
       "    </tr>\n",
       "  </thead>\n",
       "  <tbody>\n",
       "    <tr>\n",
       "      <th>Advertising, marketing</th>\n",
       "      <td>-74.0059</td>\n",
       "      <td>40.7128</td>\n",
       "      <td>Interpublic Group</td>\n",
       "      <td>New York, NY</td>\n",
       "      <td>NY</td>\n",
       "      <td>New York</td>\n",
       "    </tr>\n",
       "    <tr>\n",
       "      <th>Aerospace and Defense</th>\n",
       "      <td>-87.9790</td>\n",
       "      <td>41.9634</td>\n",
       "      <td>AAR</td>\n",
       "      <td>Wood Dale, IL</td>\n",
       "      <td>IL</td>\n",
       "      <td>Wood Dale</td>\n",
       "    </tr>\n",
       "    <tr>\n",
       "      <th>Airlines</th>\n",
       "      <td>-157.8580</td>\n",
       "      <td>21.3069</td>\n",
       "      <td>Hawaiian Holdings</td>\n",
       "      <td>Honolulu, HI</td>\n",
       "      <td>HI</td>\n",
       "      <td>Honolulu</td>\n",
       "    </tr>\n",
       "    <tr>\n",
       "      <th>Apparel</th>\n",
       "      <td>-122.6760</td>\n",
       "      <td>45.5231</td>\n",
       "      <td>Columbia Sportswear</td>\n",
       "      <td>Portland, OR</td>\n",
       "      <td>OR</td>\n",
       "      <td>Portland</td>\n",
       "    </tr>\n",
       "    <tr>\n",
       "      <th>Automotive Retailing, Services</th>\n",
       "      <td>-98.1245</td>\n",
       "      <td>29.7030</td>\n",
       "      <td>Rush Enterprises</td>\n",
       "      <td>New Braunfels, TX</td>\n",
       "      <td>TX</td>\n",
       "      <td>New Braunfels</td>\n",
       "    </tr>\n",
       "  </tbody>\n",
       "</table>\n",
       "</div>"
      ],
      "text/plain": [
       "                                     lon      lat              company  \\\n",
       "industry                                                                 \n",
       "Advertising, marketing          -74.0059  40.7128    Interpublic Group   \n",
       "Aerospace and Defense           -87.9790  41.9634                  AAR   \n",
       "Airlines                       -157.8580  21.3069    Hawaiian Holdings   \n",
       "Apparel                        -122.6760  45.5231  Columbia Sportswear   \n",
       "Automotive Retailing, Services  -98.1245  29.7030     Rush Enterprises   \n",
       "\n",
       "                                         location state           city  \n",
       "industry                                                                \n",
       "Advertising, marketing               New York, NY    NY       New York  \n",
       "Aerospace and Defense               Wood Dale, IL    IL      Wood Dale  \n",
       "Airlines                             Honolulu, HI    HI       Honolulu  \n",
       "Apparel                              Portland, OR    OR       Portland  \n",
       "Automotive Retailing, Services  New Braunfels, TX    TX  New Braunfels  "
      ]
     },
     "execution_count": 19,
     "metadata": {},
     "output_type": "execute_result"
    }
   ],
   "source": [
    "industries.last().head(5)"
   ]
  },
  {
   "cell_type": "code",
   "execution_count": 22,
   "id": "d67c7af6-d18e-46c9-830e-526e1b8a774d",
   "metadata": {},
   "outputs": [
    {
     "data": {
      "text/plain": [
       "{'Advertising, marketing': [199, 371], 'Aerospace and Defense': [26, 44, 63, 99, 123, 128, 218, 251, 301, 389, 395, 506, 538, 602, 603, 643, 824, 833, 903, 933, 971, 996], 'Airlines': [69, 72, 78, 160, 453, 483, 710, 919], 'Apparel': [105, 247, 350, 373, 489, 534, 540, 678, 738, 778, 805, 890, 899, 976, 981], 'Automotive Retailing, Services': [155, 176, 231, 290, 314, 335, 449, 481, 545], 'Beverages': [62, 367, 436, 529, 548, 605, 755, 874], 'Building Materials, Glass': [497, 652, 714, 754, 763, 816], 'Chemicals': [47, 86, 196, 197, 212, 248, 258, 265, 283, 304, 319, 370, 394, 426, 502, 542, 563, 569, 581, 588, 612, 637, 660, 707, 736, 781, 799, 836, 870, 882, 915, 937, 953, 978], 'Commercial Banks': [20, 22, 27, 29, 75, 81, 87, 125, 137, 188, 191, 277, 291, 294, 302, 326, 415, 478, 544, 570, 591, 661, 764, 827, 906, 969], 'Computer Peripherals': [120, 204, 427, 655], 'Computer Software': [30, 80, 404, 482, 567, 571, 584, 604, 670, 808, 861, 912, 994], 'Computers, Office Equipment': [4, 18, 411, 635, 742], 'Construction and Farm Machinery': [53, 85, 153, 295, 376, 628, 641, 728, 962], 'Diversified Financials': [7, 16, 41, 92, 234, 246, 372, 462, 557, 698, 750, 790, 950, 967], 'Diversified Outsourcing Services': [206, 250, 514, 565, 653, 675, 688, 729, 782, 793, 859, 877, 907, 952], 'Education': [669, 745, 929], 'Electronics, Electrical Equip.': [73, 119, 147, 408, 442, 485, 694, 704, 871, 898, 910, 921], 'Energy': [195, 348, 352, 369, 445, 555, 608, 624, 648, 691, 711, 747, 800, 864, 873, 893], 'Engineering, Construction': [135, 238, 285, 342, 360, 420, 423, 479, 561, 572, 869, 928, 983], 'Entertainment': [56, 96, 103, 211, 221, 391, 428, 429, 577, 748, 756, 773, 775, 819, 826, 948], 'Financial Data Services': [237, 264, 307, 421, 467, 493, 499, 511, 723, 806, 841, 848, 850, 876, 885, 920, 941], 'Food Consumer Products': [43, 90, 164, 170, 172, 202, 209, 271, 305, 309, 341, 375, 466, 583, 597, 613, 646, 677, 685, 766, 838, 891, 966], 'Food Production': [33, 68, 82, 243, 416, 461, 568, 621, 735, 802], 'Food Services': [109, 186, 227, 324, 579, 610, 776, 817, 856, 992], 'Food and Drug Stores': [9, 19, 34, 83, 100, 116, 163, 213, 606, 636, 676, 761, 801, 830, 863, 945], 'Forest and Paper Products': [354, 469, 595, 820], 'General Merchandisers': [0, 35, 98, 104, 156, 158, 223, 249, 280, 399, 609, 787], 'Health Care: Insurance and Managed Care': [13, 37, 48, 57, 89, 185, 215, 233, 300, 644, 918, 995], 'Health Care: Medical Facilities': [74, 134, 169, 230, 323, 490, 494, 638, 741, 770, 892], 'Health Care: Pharmacy and Other Services': [21, 374, 413, 439, 475, 586, 689, 788, 815, 825, 884, 932], 'Home Equipment, Furnishings': [260, 333, 347, 454, 587, 622, 757, 758, 943], 'Homebuilders': [353, 363, 452, 576, 627, 734, 829, 886, 894, 956, 990], 'Hotels, Casinos, Resorts': [208, 220, 279, 288, 327, 441, 476, 496, 582, 814, 839, 934], 'Household and Personal Products': [31, 139, 178, 270, 321, 446, 468, 566, 578, 701, 834, 844], 'Industrial Machinery': [200, 229, 345, 527, 541, 558, 625, 631, 681, 692, 746, 769, 771, 785, 791, 792, 795, 804, 822, 851, 872, 905, 968, 985, 993], 'Information Technology Services': [23, 142, 228, 252, 287, 474, 505, 629, 673, 695, 998], 'Insurance: Life, Health (Mutual)': [79, 91, 93, 108, 253, 332, 480, 878, 889, 938], 'Insurance: Life, Health (stock)': [38, 54, 131, 222, 267, 272, 278, 281, 303, 386, 390, 585, 601, 607, 620, 686, 743, 803, 954, 963, 979], 'Insurance: Property and Casualty (Mutual)': [40, 84, 263, 424, 680, 798, 982], 'Insurance: Property and Casualty (Stock)': [3, 45, 77, 88, 111, 121, 152, 159, 210, 214, 284, 313, 357, 384, 435, 458, 471, 498, 503, 510, 524, 553, 575, 614, 751, 823, 949, 997], 'Internet Services and Retailing': [28, 39, 171, 241, 262, 338, 457, 560, 717, 732, 762, 857, 944], 'Mail, Package, and Freight Delivery': [46, 64], 'Medical Products and Equipment': [133, 184, 299, 337, 377, 465, 554, 634, 699, 712, 744, 765, 772, 855, 917, 958, 972], 'Metals': [124, 138, 175, 282, 325, 387, 414, 546, 600, 665, 727, 852, 961, 989], 'Mining, Crude-Oil Production': [50, 114, 136, 141, 151, 161, 166, 217, 226, 349, 378, 397, 495, 504, 519, 535, 559, 593, 617, 633, 651, 666, 720, 737, 767, 810, 812, 821, 858, 887, 888, 902, 925, 960, 984], 'Motor Vehicles and Parts': [5, 8, 65, 157, 165, 173, 174, 275, 311, 340, 343, 346, 393, 409, 640, 656, 667, 687, 706, 716, 783, 784, 811, 955, 973], 'Network and Other Communications Equipment': [59, 112, 296, 362, 486, 491, 516, 556, 580, 639, 683, 724, 927, 946], 'Oil and Gas Equipment, Services': [95, 118, 126, 274, 356, 447, 522, 549, 654, 659, 719, 777, 914, 942, 986, 991], 'Packaging, Containers': [113, 292, 317, 331, 365, 398, 450, 463, 515, 521, 533, 598, 599, 626, 837, 924], 'Petroleum Refining': [1, 2, 6, 12, 24, 76, 140, 148, 149, 154, 203, 344, 456, 501, 715, 733], 'Pharmaceuticals': [36, 55, 70, 117, 144, 145, 150, 194, 297, 368, 379, 537, 574, 663, 713, 789, 940], 'Pipelines': [52, 58, 66, 192, 236, 328, 405, 448, 632, 658, 664, 693, 740, 922, 957, 974], 'Publishing, Printing': [257, 330, 440, 530], 'Railroads': [122, 239, 255, 842], 'Real estate': [320, 477, 484, 487, 528, 697, 739, 813, 828, 847, 895, 931], 'Scientific,Photographic and Control Equipment': [146, 180, 388, 618, 674, 867, 896, 897, 939, 965], 'Securities': [266, 334, 355, 425, 434, 520, 564, 590, 619, 630, 679, 703, 726, 731, 807, 862, 935, 980, 999], 'Semiconductors and Other Electronic Components': [51, 189, 190, 232, 318, 339, 407, 431, 472, 552, 562, 721, 725, 768, 779, 794, 866, 868, 880, 900, 901, 926], 'Specialty Retailers: Apparel': [102, 187, 261, 268, 383, 531, 532, 536, 647, 700, 702, 705, 780, 818, 840, 843, 854, 865, 964], 'Specialty Retailers: Other': [17, 32, 49, 71, 132, 193, 201, 244, 259, 276, 293, 306, 310, 329, 364, 380, 381, 385, 392, 401, 422, 459, 473, 500, 543, 550, 596, 645, 649, 662, 668, 684, 708, 722, 760, 809, 860, 875, 909, 913, 923, 930, 988], 'Telecommunications': [11, 14, 42, 94, 129, 167, 207, 316, 400, 418, 451, 517, 539, 611, 650, 657, 883], 'Temporary Help': [143, 470, 551, 959], 'Tobacco': [101, 168, 336, 512, 853, 911], 'Toys, Sporting Goods': [438, 594], 'Transportation Equipment': [430, 432, 573, 615, 947], 'Transportation and Logistics': [224, 412, 455, 672, 908], 'Trucking, Truck Leasing': [406, 433, 509, 592, 718, 786, 796, 831, 970], 'Utilities: Gas and Electric': [110, 115, 162, 177, 181, 182, 183, 205, 225, 235, 240, 242, 245, 254, 256, 269, 273, 312, 366, 382, 403, 417, 437, 464, 518, 523, 525, 526, 682, 696, 709, 730, 752, 832, 835, 845, 881, 975, 977], 'Waste Management': [216, 322, 690, 849, 987], 'Wholesalers: Diversified': [67, 179, 198, 289, 298, 315, 359, 402, 410, 419, 444, 507, 508, 513, 547, 589, 623, 671, 759, 797, 879, 904, 916, 936], 'Wholesalers: Electronics and Office Equipment': [61, 106, 107, 130, 219, 488, 492, 774], 'Wholesalers: Food and Grocery': [60, 127, 351, 358, 396, 642], 'Wholesalers: Health Care': [10, 15, 25, 286, 308, 616], 'zMiscellaneous': [97, 361, 443, 460, 749, 753, 846, 951]}"
      ]
     },
     "execution_count": 22,
     "metadata": {},
     "output_type": "execute_result"
    }
   ],
   "source": [
    "industries.groups"
   ]
  },
  {
   "cell_type": "code",
   "execution_count": null,
   "id": "ee11184c-9c39-44e8-a272-433100014744",
   "metadata": {},
   "outputs": [],
   "source": [
    "industries.get_group('state')"
   ]
  },
  {
   "cell_type": "code",
   "execution_count": 38,
   "id": "f839a052-cde4-40e1-bc2d-75b273c16057",
   "metadata": {},
   "outputs": [
    {
     "data": {
      "text/html": [
       "<div>\n",
       "<style scoped>\n",
       "    .dataframe tbody tr th:only-of-type {\n",
       "        vertical-align: middle;\n",
       "    }\n",
       "\n",
       "    .dataframe tbody tr th {\n",
       "        vertical-align: top;\n",
       "    }\n",
       "\n",
       "    .dataframe thead th {\n",
       "        text-align: right;\n",
       "    }\n",
       "</style>\n",
       "<table border=\"1\" class=\"dataframe\">\n",
       "  <thead>\n",
       "    <tr style=\"text-align: right;\">\n",
       "      <th></th>\n",
       "      <th>lon</th>\n",
       "      <th>lat</th>\n",
       "      <th>company</th>\n",
       "      <th>location</th>\n",
       "      <th>state</th>\n",
       "      <th>city</th>\n",
       "    </tr>\n",
       "    <tr>\n",
       "      <th>industry</th>\n",
       "      <th></th>\n",
       "      <th></th>\n",
       "      <th></th>\n",
       "      <th></th>\n",
       "      <th></th>\n",
       "      <th></th>\n",
       "    </tr>\n",
       "  </thead>\n",
       "  <tbody>\n",
       "    <tr>\n",
       "      <th>Advertising, marketing</th>\n",
       "      <td>-148.0118</td>\n",
       "      <td>81.4256</td>\n",
       "      <td>Omnicom GroupInterpublic Group</td>\n",
       "      <td>New York, NYNew York, NY</td>\n",
       "      <td>NYNY</td>\n",
       "      <td>New YorkNew York</td>\n",
       "    </tr>\n",
       "    <tr>\n",
       "      <th>Aerospace and Defense</th>\n",
       "      <td>-1835.3981</td>\n",
       "      <td>880.1807</td>\n",
       "      <td>BoeingUnited TechnologiesLockheed MartinGenera...</td>\n",
       "      <td>Chicago, ILHartford, CTBethesda, MDFalls Churc...</td>\n",
       "      <td>ILCTMDVAVAMARINYORVAKSIAVAFLVAPANYNCOHVAWAIL</td>\n",
       "      <td>ChicagoHartfordBethesdaFalls ChurchFalls Churc...</td>\n",
       "    </tr>\n",
       "    <tr>\n",
       "      <th>Airlines</th>\n",
       "      <td>-833.8600</td>\n",
       "      <td>287.9102</td>\n",
       "      <td>American Airlines GroupDelta Air LinesUnited C...</td>\n",
       "      <td>Fort Worth, TXAtlanta, GAChicago, ILDallas, TX...</td>\n",
       "      <td>TXGAILTXNYWAUTHI</td>\n",
       "      <td>Fort WorthAtlantaChicagoDallasLong Island City...</td>\n",
       "    </tr>\n",
       "    <tr>\n",
       "      <th>Apparel</th>\n",
       "      <td>-1403.9039</td>\n",
       "      <td>580.8534</td>\n",
       "      <td>NikeVFPVHRalph LaurenHanesbrandsCoachLevi Stra...</td>\n",
       "      <td>Beaverton, ORGreensboro, NCNew York, NYNew Yor...</td>\n",
       "      <td>ORNCNYNYNCNYCATXMDGAMICACANYOR</td>\n",
       "      <td>BeavertonGreensboroNew YorkNew YorkWinston-Sal...</td>\n",
       "    </tr>\n",
       "    <tr>\n",
       "      <th>Automotive Retailing, Services</th>\n",
       "      <td>-796.5942</td>\n",
       "      <td>318.1319</td>\n",
       "      <td>AutoNationPenske Automotive GroupCarMaxGroup 1...</td>\n",
       "      <td>Fort Lauderdale, FLBloomfield Hills, MIRichmon...</td>\n",
       "      <td>FLMIVATXNCNJGAORTX</td>\n",
       "      <td>Fort LauderdaleBloomfield HillsRichmondHouston...</td>\n",
       "    </tr>\n",
       "  </tbody>\n",
       "</table>\n",
       "</div>"
      ],
      "text/plain": [
       "                                      lon       lat  \\\n",
       "industry                                              \n",
       "Advertising, marketing          -148.0118   81.4256   \n",
       "Aerospace and Defense          -1835.3981  880.1807   \n",
       "Airlines                        -833.8600  287.9102   \n",
       "Apparel                        -1403.9039  580.8534   \n",
       "Automotive Retailing, Services  -796.5942  318.1319   \n",
       "\n",
       "                                                                          company  \\\n",
       "industry                                                                            \n",
       "Advertising, marketing                             Omnicom GroupInterpublic Group   \n",
       "Aerospace and Defense           BoeingUnited TechnologiesLockheed MartinGenera...   \n",
       "Airlines                        American Airlines GroupDelta Air LinesUnited C...   \n",
       "Apparel                         NikeVFPVHRalph LaurenHanesbrandsCoachLevi Stra...   \n",
       "Automotive Retailing, Services  AutoNationPenske Automotive GroupCarMaxGroup 1...   \n",
       "\n",
       "                                                                         location  \\\n",
       "industry                                                                            \n",
       "Advertising, marketing                                   New York, NYNew York, NY   \n",
       "Aerospace and Defense           Chicago, ILHartford, CTBethesda, MDFalls Churc...   \n",
       "Airlines                        Fort Worth, TXAtlanta, GAChicago, ILDallas, TX...   \n",
       "Apparel                         Beaverton, ORGreensboro, NCNew York, NYNew Yor...   \n",
       "Automotive Retailing, Services  Fort Lauderdale, FLBloomfield Hills, MIRichmon...   \n",
       "\n",
       "                                                                       state  \\\n",
       "industry                                                                       \n",
       "Advertising, marketing                                                  NYNY   \n",
       "Aerospace and Defense           ILCTMDVAVAMARINYORVAKSIAVAFLVAPANYNCOHVAWAIL   \n",
       "Airlines                                                    TXGAILTXNYWAUTHI   \n",
       "Apparel                                       ORNCNYNYNCNYCATXMDGAMICACANYOR   \n",
       "Automotive Retailing, Services                            FLMIVATXNCNJGAORTX   \n",
       "\n",
       "                                                                             city  \n",
       "industry                                                                           \n",
       "Advertising, marketing                                           New YorkNew York  \n",
       "Aerospace and Defense           ChicagoHartfordBethesdaFalls ChurchFalls Churc...  \n",
       "Airlines                        Fort WorthAtlantaChicagoDallasLong Island City...  \n",
       "Apparel                         BeavertonGreensboroNew YorkNew YorkWinston-Sal...  \n",
       "Automotive Retailing, Services  Fort LauderdaleBloomfield HillsRichmondHouston...  "
      ]
     },
     "execution_count": 38,
     "metadata": {},
     "output_type": "execute_result"
    }
   ],
   "source": [
    "industries.sum().head()"
   ]
  },
  {
   "cell_type": "code",
   "execution_count": 35,
   "id": "d81f5b71-80a6-4c27-a0c4-4bfa8a3ad5d0",
   "metadata": {},
   "outputs": [
    {
     "data": {
      "text/plain": [
       "industry\n",
       "Oil and Gas Equipment, Services        30.954506\n",
       "Pipelines                              32.730750\n",
       "Mining, Crude-Oil Production           34.332954\n",
       "Engineering, Construction              34.339592\n",
       "Mail, Package, and Freight Delivery    34.449250\n",
       "                                         ...    \n",
       "Insurance: Life, Health (Mutual)       41.488010\n",
       "Transportation Equipment               41.706020\n",
       "Motor Vehicles and Parts               41.894160\n",
       "Temporary Help                         42.587800\n",
       "Transportation and Logistics           43.521540\n",
       "Name: lat, Length: 74, dtype: float64"
      ]
     },
     "execution_count": 35,
     "metadata": {},
     "output_type": "execute_result"
    }
   ],
   "source": [
    "industries['lat'].mean().sort_values()"
   ]
  },
  {
   "cell_type": "code",
   "execution_count": null,
   "id": "9c94b7f9-74f4-4e8c-a388-a7392a3b9db3",
   "metadata": {},
   "outputs": [],
   "source": []
  },
  {
   "cell_type": "code",
   "execution_count": null,
   "id": "7ae5d333-6fd9-47e9-89c9-95f5dfbbd53d",
   "metadata": {},
   "outputs": [],
   "source": []
  },
  {
   "cell_type": "code",
   "execution_count": 39,
   "id": "b5b8d13b-2bfb-4e9e-95e6-88a345644819",
   "metadata": {},
   "outputs": [],
   "source": [
    "#WORKING ON NEW DATASET"
   ]
  },
  {
   "cell_type": "code",
   "execution_count": 41,
   "id": "1b41984a-4eee-4f95-a274-2ea1b4db3c4a",
   "metadata": {},
   "outputs": [
    {
     "data": {
      "text/html": [
       "<div>\n",
       "<style scoped>\n",
       "    .dataframe tbody tr th:only-of-type {\n",
       "        vertical-align: middle;\n",
       "    }\n",
       "\n",
       "    .dataframe tbody tr th {\n",
       "        vertical-align: top;\n",
       "    }\n",
       "\n",
       "    .dataframe thead th {\n",
       "        text-align: right;\n",
       "    }\n",
       "</style>\n",
       "<table border=\"1\" class=\"dataframe\">\n",
       "  <thead>\n",
       "    <tr style=\"text-align: right;\">\n",
       "      <th></th>\n",
       "      <th>match_id</th>\n",
       "      <th>inning</th>\n",
       "      <th>batting_team</th>\n",
       "      <th>bowling_team</th>\n",
       "      <th>over</th>\n",
       "      <th>ball</th>\n",
       "      <th>batsman</th>\n",
       "      <th>non_striker</th>\n",
       "      <th>bowler</th>\n",
       "      <th>is_super_over</th>\n",
       "      <th>...</th>\n",
       "      <th>bye_runs</th>\n",
       "      <th>legbye_runs</th>\n",
       "      <th>noball_runs</th>\n",
       "      <th>penalty_runs</th>\n",
       "      <th>batsman_runs</th>\n",
       "      <th>extra_runs</th>\n",
       "      <th>total_runs</th>\n",
       "      <th>player_dismissed</th>\n",
       "      <th>dismissal_kind</th>\n",
       "      <th>fielder</th>\n",
       "    </tr>\n",
       "  </thead>\n",
       "  <tbody>\n",
       "    <tr>\n",
       "      <th>0</th>\n",
       "      <td>1</td>\n",
       "      <td>1</td>\n",
       "      <td>Sunrisers Hyderabad</td>\n",
       "      <td>Royal Challengers Bangalore</td>\n",
       "      <td>1</td>\n",
       "      <td>1</td>\n",
       "      <td>DA Warner</td>\n",
       "      <td>S Dhawan</td>\n",
       "      <td>TS Mills</td>\n",
       "      <td>0</td>\n",
       "      <td>...</td>\n",
       "      <td>0</td>\n",
       "      <td>0</td>\n",
       "      <td>0</td>\n",
       "      <td>0</td>\n",
       "      <td>0</td>\n",
       "      <td>0</td>\n",
       "      <td>0</td>\n",
       "      <td>NaN</td>\n",
       "      <td>NaN</td>\n",
       "      <td>NaN</td>\n",
       "    </tr>\n",
       "    <tr>\n",
       "      <th>1</th>\n",
       "      <td>1</td>\n",
       "      <td>1</td>\n",
       "      <td>Sunrisers Hyderabad</td>\n",
       "      <td>Royal Challengers Bangalore</td>\n",
       "      <td>1</td>\n",
       "      <td>2</td>\n",
       "      <td>DA Warner</td>\n",
       "      <td>S Dhawan</td>\n",
       "      <td>TS Mills</td>\n",
       "      <td>0</td>\n",
       "      <td>...</td>\n",
       "      <td>0</td>\n",
       "      <td>0</td>\n",
       "      <td>0</td>\n",
       "      <td>0</td>\n",
       "      <td>0</td>\n",
       "      <td>0</td>\n",
       "      <td>0</td>\n",
       "      <td>NaN</td>\n",
       "      <td>NaN</td>\n",
       "      <td>NaN</td>\n",
       "    </tr>\n",
       "    <tr>\n",
       "      <th>2</th>\n",
       "      <td>1</td>\n",
       "      <td>1</td>\n",
       "      <td>Sunrisers Hyderabad</td>\n",
       "      <td>Royal Challengers Bangalore</td>\n",
       "      <td>1</td>\n",
       "      <td>3</td>\n",
       "      <td>DA Warner</td>\n",
       "      <td>S Dhawan</td>\n",
       "      <td>TS Mills</td>\n",
       "      <td>0</td>\n",
       "      <td>...</td>\n",
       "      <td>0</td>\n",
       "      <td>0</td>\n",
       "      <td>0</td>\n",
       "      <td>0</td>\n",
       "      <td>4</td>\n",
       "      <td>0</td>\n",
       "      <td>4</td>\n",
       "      <td>NaN</td>\n",
       "      <td>NaN</td>\n",
       "      <td>NaN</td>\n",
       "    </tr>\n",
       "    <tr>\n",
       "      <th>3</th>\n",
       "      <td>1</td>\n",
       "      <td>1</td>\n",
       "      <td>Sunrisers Hyderabad</td>\n",
       "      <td>Royal Challengers Bangalore</td>\n",
       "      <td>1</td>\n",
       "      <td>4</td>\n",
       "      <td>DA Warner</td>\n",
       "      <td>S Dhawan</td>\n",
       "      <td>TS Mills</td>\n",
       "      <td>0</td>\n",
       "      <td>...</td>\n",
       "      <td>0</td>\n",
       "      <td>0</td>\n",
       "      <td>0</td>\n",
       "      <td>0</td>\n",
       "      <td>0</td>\n",
       "      <td>0</td>\n",
       "      <td>0</td>\n",
       "      <td>NaN</td>\n",
       "      <td>NaN</td>\n",
       "      <td>NaN</td>\n",
       "    </tr>\n",
       "    <tr>\n",
       "      <th>4</th>\n",
       "      <td>1</td>\n",
       "      <td>1</td>\n",
       "      <td>Sunrisers Hyderabad</td>\n",
       "      <td>Royal Challengers Bangalore</td>\n",
       "      <td>1</td>\n",
       "      <td>5</td>\n",
       "      <td>DA Warner</td>\n",
       "      <td>S Dhawan</td>\n",
       "      <td>TS Mills</td>\n",
       "      <td>0</td>\n",
       "      <td>...</td>\n",
       "      <td>0</td>\n",
       "      <td>0</td>\n",
       "      <td>0</td>\n",
       "      <td>0</td>\n",
       "      <td>0</td>\n",
       "      <td>2</td>\n",
       "      <td>2</td>\n",
       "      <td>NaN</td>\n",
       "      <td>NaN</td>\n",
       "      <td>NaN</td>\n",
       "    </tr>\n",
       "  </tbody>\n",
       "</table>\n",
       "<p>5 rows × 21 columns</p>\n",
       "</div>"
      ],
      "text/plain": [
       "   match_id  inning         batting_team                 bowling_team  over  \\\n",
       "0         1       1  Sunrisers Hyderabad  Royal Challengers Bangalore     1   \n",
       "1         1       1  Sunrisers Hyderabad  Royal Challengers Bangalore     1   \n",
       "2         1       1  Sunrisers Hyderabad  Royal Challengers Bangalore     1   \n",
       "3         1       1  Sunrisers Hyderabad  Royal Challengers Bangalore     1   \n",
       "4         1       1  Sunrisers Hyderabad  Royal Challengers Bangalore     1   \n",
       "\n",
       "   ball    batsman non_striker    bowler  is_super_over  ...  bye_runs  \\\n",
       "0     1  DA Warner    S Dhawan  TS Mills              0  ...         0   \n",
       "1     2  DA Warner    S Dhawan  TS Mills              0  ...         0   \n",
       "2     3  DA Warner    S Dhawan  TS Mills              0  ...         0   \n",
       "3     4  DA Warner    S Dhawan  TS Mills              0  ...         0   \n",
       "4     5  DA Warner    S Dhawan  TS Mills              0  ...         0   \n",
       "\n",
       "   legbye_runs  noball_runs  penalty_runs  batsman_runs  extra_runs  \\\n",
       "0            0            0             0             0           0   \n",
       "1            0            0             0             0           0   \n",
       "2            0            0             0             4           0   \n",
       "3            0            0             0             0           0   \n",
       "4            0            0             0             0           2   \n",
       "\n",
       "   total_runs  player_dismissed dismissal_kind fielder  \n",
       "0           0               NaN            NaN     NaN  \n",
       "1           0               NaN            NaN     NaN  \n",
       "2           4               NaN            NaN     NaN  \n",
       "3           0               NaN            NaN     NaN  \n",
       "4           2               NaN            NaN     NaN  \n",
       "\n",
       "[5 rows x 21 columns]"
      ]
     },
     "execution_count": 41,
     "metadata": {},
     "output_type": "execute_result"
    }
   ],
   "source": [
    "ipl=pd.read_csv('deliveries.csv')\n",
    "ipl.head()"
   ]
  },
  {
   "cell_type": "code",
   "execution_count": 42,
   "id": "f1ced2e5-d907-4434-b856-28c718840049",
   "metadata": {},
   "outputs": [
    {
     "data": {
      "text/plain": [
       "(150460, 21)"
      ]
     },
     "execution_count": 42,
     "metadata": {},
     "output_type": "execute_result"
    }
   ],
   "source": [
    "ipl.shape"
   ]
  },
  {
   "cell_type": "code",
   "execution_count": 43,
   "id": "fbbca482-47d7-45a7-9e88-d58f244fa1ca",
   "metadata": {},
   "outputs": [],
   "source": [
    "#TOP 5 BATSEM WITH HIGHER NO.OF RUNS"
   ]
  },
  {
   "cell_type": "code",
   "execution_count": 52,
   "id": "e79bf0d9-7071-46f0-a2c1-580db623cb36",
   "metadata": {},
   "outputs": [],
   "source": [
    "runn=ipl.groupby('batsman')"
   ]
  },
  {
   "cell_type": "code",
   "execution_count": 54,
   "id": "c8083b93-c74d-4648-be2e-f9491938d135",
   "metadata": {},
   "outputs": [
    {
     "data": {
      "text/html": [
       "<div>\n",
       "<style scoped>\n",
       "    .dataframe tbody tr th:only-of-type {\n",
       "        vertical-align: middle;\n",
       "    }\n",
       "\n",
       "    .dataframe tbody tr th {\n",
       "        vertical-align: top;\n",
       "    }\n",
       "\n",
       "    .dataframe thead th {\n",
       "        text-align: right;\n",
       "    }\n",
       "</style>\n",
       "<table border=\"1\" class=\"dataframe\">\n",
       "  <thead>\n",
       "    <tr style=\"text-align: right;\">\n",
       "      <th></th>\n",
       "      <th>match_id</th>\n",
       "      <th>inning</th>\n",
       "      <th>batting_team</th>\n",
       "      <th>bowling_team</th>\n",
       "      <th>over</th>\n",
       "      <th>ball</th>\n",
       "      <th>batsman</th>\n",
       "      <th>non_striker</th>\n",
       "      <th>bowler</th>\n",
       "      <th>is_super_over</th>\n",
       "      <th>...</th>\n",
       "      <th>bye_runs</th>\n",
       "      <th>legbye_runs</th>\n",
       "      <th>noball_runs</th>\n",
       "      <th>penalty_runs</th>\n",
       "      <th>batsman_runs</th>\n",
       "      <th>extra_runs</th>\n",
       "      <th>total_runs</th>\n",
       "      <th>player_dismissed</th>\n",
       "      <th>dismissal_kind</th>\n",
       "      <th>fielder</th>\n",
       "    </tr>\n",
       "  </thead>\n",
       "  <tbody>\n",
       "    <tr>\n",
       "      <th>2590</th>\n",
       "      <td>12</td>\n",
       "      <td>1</td>\n",
       "      <td>Royal Challengers Bangalore</td>\n",
       "      <td>Mumbai Indians</td>\n",
       "      <td>1</td>\n",
       "      <td>2</td>\n",
       "      <td>V Kohli</td>\n",
       "      <td>CH Gayle</td>\n",
       "      <td>TG Southee</td>\n",
       "      <td>0</td>\n",
       "      <td>...</td>\n",
       "      <td>0</td>\n",
       "      <td>0</td>\n",
       "      <td>0</td>\n",
       "      <td>0</td>\n",
       "      <td>0</td>\n",
       "      <td>1</td>\n",
       "      <td>1</td>\n",
       "      <td>NaN</td>\n",
       "      <td>NaN</td>\n",
       "      <td>NaN</td>\n",
       "    </tr>\n",
       "    <tr>\n",
       "      <th>2591</th>\n",
       "      <td>12</td>\n",
       "      <td>1</td>\n",
       "      <td>Royal Challengers Bangalore</td>\n",
       "      <td>Mumbai Indians</td>\n",
       "      <td>1</td>\n",
       "      <td>3</td>\n",
       "      <td>V Kohli</td>\n",
       "      <td>CH Gayle</td>\n",
       "      <td>TG Southee</td>\n",
       "      <td>0</td>\n",
       "      <td>...</td>\n",
       "      <td>0</td>\n",
       "      <td>0</td>\n",
       "      <td>0</td>\n",
       "      <td>0</td>\n",
       "      <td>1</td>\n",
       "      <td>0</td>\n",
       "      <td>1</td>\n",
       "      <td>NaN</td>\n",
       "      <td>NaN</td>\n",
       "      <td>NaN</td>\n",
       "    </tr>\n",
       "    <tr>\n",
       "      <th>2593</th>\n",
       "      <td>12</td>\n",
       "      <td>1</td>\n",
       "      <td>Royal Challengers Bangalore</td>\n",
       "      <td>Mumbai Indians</td>\n",
       "      <td>1</td>\n",
       "      <td>5</td>\n",
       "      <td>V Kohli</td>\n",
       "      <td>CH Gayle</td>\n",
       "      <td>TG Southee</td>\n",
       "      <td>0</td>\n",
       "      <td>...</td>\n",
       "      <td>0</td>\n",
       "      <td>0</td>\n",
       "      <td>0</td>\n",
       "      <td>0</td>\n",
       "      <td>0</td>\n",
       "      <td>0</td>\n",
       "      <td>0</td>\n",
       "      <td>NaN</td>\n",
       "      <td>NaN</td>\n",
       "      <td>NaN</td>\n",
       "    </tr>\n",
       "    <tr>\n",
       "      <th>2594</th>\n",
       "      <td>12</td>\n",
       "      <td>1</td>\n",
       "      <td>Royal Challengers Bangalore</td>\n",
       "      <td>Mumbai Indians</td>\n",
       "      <td>1</td>\n",
       "      <td>6</td>\n",
       "      <td>V Kohli</td>\n",
       "      <td>CH Gayle</td>\n",
       "      <td>TG Southee</td>\n",
       "      <td>0</td>\n",
       "      <td>...</td>\n",
       "      <td>0</td>\n",
       "      <td>0</td>\n",
       "      <td>0</td>\n",
       "      <td>0</td>\n",
       "      <td>1</td>\n",
       "      <td>0</td>\n",
       "      <td>1</td>\n",
       "      <td>NaN</td>\n",
       "      <td>NaN</td>\n",
       "      <td>NaN</td>\n",
       "    </tr>\n",
       "    <tr>\n",
       "      <th>2597</th>\n",
       "      <td>12</td>\n",
       "      <td>1</td>\n",
       "      <td>Royal Challengers Bangalore</td>\n",
       "      <td>Mumbai Indians</td>\n",
       "      <td>2</td>\n",
       "      <td>1</td>\n",
       "      <td>V Kohli</td>\n",
       "      <td>CH Gayle</td>\n",
       "      <td>Harbhajan Singh</td>\n",
       "      <td>0</td>\n",
       "      <td>...</td>\n",
       "      <td>0</td>\n",
       "      <td>0</td>\n",
       "      <td>0</td>\n",
       "      <td>0</td>\n",
       "      <td>0</td>\n",
       "      <td>0</td>\n",
       "      <td>0</td>\n",
       "      <td>NaN</td>\n",
       "      <td>NaN</td>\n",
       "      <td>NaN</td>\n",
       "    </tr>\n",
       "    <tr>\n",
       "      <th>...</th>\n",
       "      <td>...</td>\n",
       "      <td>...</td>\n",
       "      <td>...</td>\n",
       "      <td>...</td>\n",
       "      <td>...</td>\n",
       "      <td>...</td>\n",
       "      <td>...</td>\n",
       "      <td>...</td>\n",
       "      <td>...</td>\n",
       "      <td>...</td>\n",
       "      <td>...</td>\n",
       "      <td>...</td>\n",
       "      <td>...</td>\n",
       "      <td>...</td>\n",
       "      <td>...</td>\n",
       "      <td>...</td>\n",
       "      <td>...</td>\n",
       "      <td>...</td>\n",
       "      <td>...</td>\n",
       "      <td>...</td>\n",
       "      <td>...</td>\n",
       "    </tr>\n",
       "    <tr>\n",
       "      <th>150410</th>\n",
       "      <td>636</td>\n",
       "      <td>2</td>\n",
       "      <td>Royal Challengers Bangalore</td>\n",
       "      <td>Sunrisers Hyderabad</td>\n",
       "      <td>12</td>\n",
       "      <td>5</td>\n",
       "      <td>V Kohli</td>\n",
       "      <td>AB de Villiers</td>\n",
       "      <td>Bipul Sharma</td>\n",
       "      <td>0</td>\n",
       "      <td>...</td>\n",
       "      <td>0</td>\n",
       "      <td>0</td>\n",
       "      <td>0</td>\n",
       "      <td>0</td>\n",
       "      <td>1</td>\n",
       "      <td>0</td>\n",
       "      <td>1</td>\n",
       "      <td>NaN</td>\n",
       "      <td>NaN</td>\n",
       "      <td>NaN</td>\n",
       "    </tr>\n",
       "    <tr>\n",
       "      <th>150413</th>\n",
       "      <td>636</td>\n",
       "      <td>2</td>\n",
       "      <td>Royal Challengers Bangalore</td>\n",
       "      <td>Sunrisers Hyderabad</td>\n",
       "      <td>13</td>\n",
       "      <td>2</td>\n",
       "      <td>V Kohli</td>\n",
       "      <td>AB de Villiers</td>\n",
       "      <td>BB Sran</td>\n",
       "      <td>0</td>\n",
       "      <td>...</td>\n",
       "      <td>0</td>\n",
       "      <td>0</td>\n",
       "      <td>0</td>\n",
       "      <td>0</td>\n",
       "      <td>6</td>\n",
       "      <td>0</td>\n",
       "      <td>6</td>\n",
       "      <td>NaN</td>\n",
       "      <td>NaN</td>\n",
       "      <td>NaN</td>\n",
       "    </tr>\n",
       "    <tr>\n",
       "      <th>150414</th>\n",
       "      <td>636</td>\n",
       "      <td>2</td>\n",
       "      <td>Royal Challengers Bangalore</td>\n",
       "      <td>Sunrisers Hyderabad</td>\n",
       "      <td>13</td>\n",
       "      <td>3</td>\n",
       "      <td>V Kohli</td>\n",
       "      <td>AB de Villiers</td>\n",
       "      <td>BB Sran</td>\n",
       "      <td>0</td>\n",
       "      <td>...</td>\n",
       "      <td>0</td>\n",
       "      <td>0</td>\n",
       "      <td>0</td>\n",
       "      <td>0</td>\n",
       "      <td>2</td>\n",
       "      <td>0</td>\n",
       "      <td>2</td>\n",
       "      <td>NaN</td>\n",
       "      <td>NaN</td>\n",
       "      <td>NaN</td>\n",
       "    </tr>\n",
       "    <tr>\n",
       "      <th>150415</th>\n",
       "      <td>636</td>\n",
       "      <td>2</td>\n",
       "      <td>Royal Challengers Bangalore</td>\n",
       "      <td>Sunrisers Hyderabad</td>\n",
       "      <td>13</td>\n",
       "      <td>4</td>\n",
       "      <td>V Kohli</td>\n",
       "      <td>AB de Villiers</td>\n",
       "      <td>BB Sran</td>\n",
       "      <td>0</td>\n",
       "      <td>...</td>\n",
       "      <td>0</td>\n",
       "      <td>0</td>\n",
       "      <td>0</td>\n",
       "      <td>0</td>\n",
       "      <td>2</td>\n",
       "      <td>0</td>\n",
       "      <td>2</td>\n",
       "      <td>NaN</td>\n",
       "      <td>NaN</td>\n",
       "      <td>NaN</td>\n",
       "    </tr>\n",
       "    <tr>\n",
       "      <th>150416</th>\n",
       "      <td>636</td>\n",
       "      <td>2</td>\n",
       "      <td>Royal Challengers Bangalore</td>\n",
       "      <td>Sunrisers Hyderabad</td>\n",
       "      <td>13</td>\n",
       "      <td>5</td>\n",
       "      <td>V Kohli</td>\n",
       "      <td>AB de Villiers</td>\n",
       "      <td>BB Sran</td>\n",
       "      <td>0</td>\n",
       "      <td>...</td>\n",
       "      <td>0</td>\n",
       "      <td>0</td>\n",
       "      <td>0</td>\n",
       "      <td>0</td>\n",
       "      <td>0</td>\n",
       "      <td>0</td>\n",
       "      <td>0</td>\n",
       "      <td>V Kohli</td>\n",
       "      <td>bowled</td>\n",
       "      <td>NaN</td>\n",
       "    </tr>\n",
       "  </tbody>\n",
       "</table>\n",
       "<p>3494 rows × 21 columns</p>\n",
       "</div>"
      ],
      "text/plain": [
       "        match_id  inning                 batting_team         bowling_team  \\\n",
       "2590          12       1  Royal Challengers Bangalore       Mumbai Indians   \n",
       "2591          12       1  Royal Challengers Bangalore       Mumbai Indians   \n",
       "2593          12       1  Royal Challengers Bangalore       Mumbai Indians   \n",
       "2594          12       1  Royal Challengers Bangalore       Mumbai Indians   \n",
       "2597          12       1  Royal Challengers Bangalore       Mumbai Indians   \n",
       "...          ...     ...                          ...                  ...   \n",
       "150410       636       2  Royal Challengers Bangalore  Sunrisers Hyderabad   \n",
       "150413       636       2  Royal Challengers Bangalore  Sunrisers Hyderabad   \n",
       "150414       636       2  Royal Challengers Bangalore  Sunrisers Hyderabad   \n",
       "150415       636       2  Royal Challengers Bangalore  Sunrisers Hyderabad   \n",
       "150416       636       2  Royal Challengers Bangalore  Sunrisers Hyderabad   \n",
       "\n",
       "        over  ball  batsman     non_striker           bowler  is_super_over  \\\n",
       "2590       1     2  V Kohli        CH Gayle       TG Southee              0   \n",
       "2591       1     3  V Kohli        CH Gayle       TG Southee              0   \n",
       "2593       1     5  V Kohli        CH Gayle       TG Southee              0   \n",
       "2594       1     6  V Kohli        CH Gayle       TG Southee              0   \n",
       "2597       2     1  V Kohli        CH Gayle  Harbhajan Singh              0   \n",
       "...      ...   ...      ...             ...              ...            ...   \n",
       "150410    12     5  V Kohli  AB de Villiers     Bipul Sharma              0   \n",
       "150413    13     2  V Kohli  AB de Villiers          BB Sran              0   \n",
       "150414    13     3  V Kohli  AB de Villiers          BB Sran              0   \n",
       "150415    13     4  V Kohli  AB de Villiers          BB Sran              0   \n",
       "150416    13     5  V Kohli  AB de Villiers          BB Sran              0   \n",
       "\n",
       "        ...  bye_runs  legbye_runs  noball_runs  penalty_runs  batsman_runs  \\\n",
       "2590    ...         0            0            0             0             0   \n",
       "2591    ...         0            0            0             0             1   \n",
       "2593    ...         0            0            0             0             0   \n",
       "2594    ...         0            0            0             0             1   \n",
       "2597    ...         0            0            0             0             0   \n",
       "...     ...       ...          ...          ...           ...           ...   \n",
       "150410  ...         0            0            0             0             1   \n",
       "150413  ...         0            0            0             0             6   \n",
       "150414  ...         0            0            0             0             2   \n",
       "150415  ...         0            0            0             0             2   \n",
       "150416  ...         0            0            0             0             0   \n",
       "\n",
       "        extra_runs  total_runs  player_dismissed dismissal_kind fielder  \n",
       "2590             1           1               NaN            NaN     NaN  \n",
       "2591             0           1               NaN            NaN     NaN  \n",
       "2593             0           0               NaN            NaN     NaN  \n",
       "2594             0           1               NaN            NaN     NaN  \n",
       "2597             0           0               NaN            NaN     NaN  \n",
       "...            ...         ...               ...            ...     ...  \n",
       "150410           0           1               NaN            NaN     NaN  \n",
       "150413           0           6               NaN            NaN     NaN  \n",
       "150414           0           2               NaN            NaN     NaN  \n",
       "150415           0           2               NaN            NaN     NaN  \n",
       "150416           0           0           V Kohli         bowled     NaN  \n",
       "\n",
       "[3494 rows x 21 columns]"
      ]
     },
     "execution_count": 54,
     "metadata": {},
     "output_type": "execute_result"
    }
   ],
   "source": [
    "runn.get_group('V Kohli')"
   ]
  },
  {
   "cell_type": "code",
   "execution_count": 56,
   "id": "80533aae-a879-482c-897e-45fd3d34dbfc",
   "metadata": {},
   "outputs": [
    {
     "data": {
      "text/plain": [
       "batsman\n",
       "SK Raina        4548\n",
       "V Kohli         4423\n",
       "RG Sharma       4207\n",
       "G Gambhir       4132\n",
       "DA Warner       4014\n",
       "                ... \n",
       "Abdur Razzak       0\n",
       "S Kaushik          0\n",
       "S Ladda            0\n",
       "U Kaul             0\n",
       "RR Bhatkal         0\n",
       "Name: batsman_runs, Length: 461, dtype: int64"
      ]
     },
     "execution_count": 56,
     "metadata": {},
     "output_type": "execute_result"
    }
   ],
   "source": [
    "runn['batsman_runs'].sum().sort_values(ascending=False)"
   ]
  },
  {
   "cell_type": "code",
   "execution_count": 59,
   "id": "2eb51f46-2c5a-4922-8e0c-2fd15d4e88c6",
   "metadata": {},
   "outputs": [
    {
     "data": {
      "text/plain": [
       "batsman\n",
       "SK Raina     4548\n",
       "V Kohli      4423\n",
       "RG Sharma    4207\n",
       "G Gambhir    4132\n",
       "DA Warner    4014\n",
       "Name: batsman_runs, dtype: int64"
      ]
     },
     "execution_count": 59,
     "metadata": {},
     "output_type": "execute_result"
    }
   ],
   "source": [
    "runn['batsman_runs'].sum().sort_values(ascending=False).head()  # ANS : Top 5 Batsmen "
   ]
  },
  {
   "cell_type": "code",
   "execution_count": 60,
   "id": "b006b2ac-73b3-4d21-badc-d93e47a8a74d",
   "metadata": {},
   "outputs": [],
   "source": [
    "# Q2 : Top 5 Batsman with More Fours"
   ]
  },
  {
   "cell_type": "code",
   "execution_count": 61,
   "id": "a4034d0d-6e9a-49af-a2e6-cba044cfdea8",
   "metadata": {},
   "outputs": [],
   "source": [
    "mask=ipl['batsman_runs']==4\n",
    "new_ipl=ipl[mask]"
   ]
  },
  {
   "cell_type": "code",
   "execution_count": 62,
   "id": "970cb88f-a481-4299-b972-b5855e8d10ec",
   "metadata": {},
   "outputs": [
    {
     "data": {
      "text/plain": [
       "17033"
      ]
     },
     "execution_count": 62,
     "metadata": {},
     "output_type": "execute_result"
    }
   ],
   "source": [
    "new_ipl.shape[0]"
   ]
  },
  {
   "cell_type": "code",
   "execution_count": 66,
   "id": "a44b92e1-e823-4a93-8a3b-64f5f54ccec2",
   "metadata": {},
   "outputs": [
    {
     "data": {
      "text/plain": [
       "batsman\n",
       "G Gambhir    484\n",
       "SK Raina     402\n",
       "DA Warner    401\n",
       "S Dhawan     401\n",
       "V Kohli      384\n",
       "Name: batsman_runs, dtype: int64"
      ]
     },
     "execution_count": 66,
     "metadata": {},
     "output_type": "execute_result"
    }
   ],
   "source": [
    "new_ipl.groupby('batsman')['batsman_runs'].count().sort_values(ascending=False).head()"
   ]
  },
  {
   "cell_type": "code",
   "execution_count": null,
   "id": "263157bb-99e1-49a0-bbc8-0daec511354f",
   "metadata": {},
   "outputs": [],
   "source": []
  },
  {
   "cell_type": "code",
   "execution_count": 67,
   "id": "b1ac8172-697f-496d-ad7b-374a83591bca",
   "metadata": {},
   "outputs": [],
   "source": [
    "#Q3 V Kohli scored highest runs against which team?"
   ]
  },
  {
   "cell_type": "code",
   "execution_count": 68,
   "id": "d96c4e5f-aa3c-4139-ab81-91b46ff0e411",
   "metadata": {},
   "outputs": [],
   "source": [
    "vk=ipl[ipl['batsman']=='V Kohli']"
   ]
  },
  {
   "cell_type": "code",
   "execution_count": 69,
   "id": "81778fe0-bc66-446f-964b-a814bdba04e5",
   "metadata": {},
   "outputs": [
    {
     "data": {
      "text/plain": [
       "bowling_team\n",
       "Chennai Super Kings    706\n",
       "Delhi Daredevils       661\n",
       "Kings XI Punjab        483\n",
       "Name: batsman_runs, dtype: int64"
      ]
     },
     "execution_count": 69,
     "metadata": {},
     "output_type": "execute_result"
    }
   ],
   "source": [
    "vk.groupby('bowling_team')['batsman_runs'].sum().sort_values(ascending=False).head(3)"
   ]
  },
  {
   "cell_type": "code",
   "execution_count": 70,
   "id": "f76fd2dc-8d92-4629-ba2f-1171af9c31f4",
   "metadata": {},
   "outputs": [],
   "source": [
    "#function for above question for different batsmen"
   ]
  },
  {
   "cell_type": "code",
   "execution_count": 82,
   "id": "90cc9a17-b1de-462d-a6f8-4bfc8d3fb02d",
   "metadata": {},
   "outputs": [],
   "source": [
    "def run_scored(batsman_name):\n",
    "    vk=ipl[ipl['batsman']==batsman_name]\n",
    "    return vk.groupby('bowling_team')['batsman_runs'].sum().sort_values(ascending=False).index[0]\n",
    "    "
   ]
  },
  {
   "cell_type": "code",
   "execution_count": 83,
   "id": "ca9fad52-421c-4f2c-ae05-8da4f9e612d5",
   "metadata": {},
   "outputs": [
    {
     "data": {
      "text/plain": [
       "'Chennai Super Kings'"
      ]
     },
     "execution_count": 83,
     "metadata": {},
     "output_type": "execute_result"
    }
   ],
   "source": [
    "run_scored('V Kohli')"
   ]
  },
  {
   "cell_type": "code",
   "execution_count": 84,
   "id": "af29d7a2-4e0b-4e54-9cac-2e57a55fe522",
   "metadata": {},
   "outputs": [
    {
     "data": {
      "text/plain": [
       "'Kolkata Knight Riders'"
      ]
     },
     "execution_count": 84,
     "metadata": {},
     "output_type": "execute_result"
    }
   ],
   "source": [
    "run_scored('DA Warner')"
   ]
  },
  {
   "cell_type": "code",
   "execution_count": null,
   "id": "43462423-d6e3-41da-a93c-3560cb742a11",
   "metadata": {},
   "outputs": [],
   "source": [
    "\n",
    "#isin()"
   ]
  },
  {
   "cell_type": "code",
   "execution_count": 85,
   "id": "dce6ff9f-df18-4b1b-9b7d-df555fb69f1b",
   "metadata": {},
   "outputs": [],
   "source": [
    "#Q : Find most destructive death over(last 5 over) batsman in the history of IPL\n",
    "#Strike Rate=(No.of Runs/No.of Balls)/100\n",
    "#Min batsman 200 balls played in over 16-20"
   ]
  },
  {
   "cell_type": "code",
   "execution_count": 93,
   "id": "d9b97cea-1c97-47c9-be22-508928538c63",
   "metadata": {},
   "outputs": [],
   "source": [
    "dOver=ipl[ipl['over']>15]"
   ]
  },
  {
   "cell_type": "code",
   "execution_count": 99,
   "id": "4440ed81-4099-416e-b229-9f240c47db3c",
   "metadata": {},
   "outputs": [
    {
     "data": {
      "text/plain": [
       "(43,)"
      ]
     },
     "execution_count": 99,
     "metadata": {},
     "output_type": "execute_result"
    }
   ],
   "source": [
    "allbatsman=dOver.groupby('batsman')['batsman_runs'].count()\n",
    "x=allbatsman>200\n",
    "allbatsman[x].shape"
   ]
  },
  {
   "cell_type": "code",
   "execution_count": 102,
   "id": "0887ae73-87b5-4444-8d2a-a10d17293d5f",
   "metadata": {},
   "outputs": [
    {
     "data": {
      "text/plain": [
       "['A Mishra',\n",
       " 'AB de Villiers',\n",
       " 'AD Mathews',\n",
       " 'AM Rahane',\n",
       " 'AR Patel',\n",
       " 'AT Rayudu',\n",
       " 'BJ Hodge',\n",
       " 'DA Miller',\n",
       " 'DA Warner',\n",
       " 'DJ Bravo',\n",
       " 'DJ Hussey',\n",
       " 'DPMD Jayawardene',\n",
       " 'Harbhajan Singh',\n",
       " 'IK Pathan',\n",
       " 'JA Morkel',\n",
       " 'JH Kallis',\n",
       " 'JP Duminy',\n",
       " 'JP Faulkner',\n",
       " 'KA Pollard',\n",
       " 'KD Karthik',\n",
       " 'KM Jadhav',\n",
       " 'LRPL Taylor',\n",
       " 'MK Pandey',\n",
       " 'MK Tiwary',\n",
       " 'MS Dhoni',\n",
       " 'NV Ojha',\n",
       " 'P Kumar',\n",
       " 'PP Chawla',\n",
       " 'R Vinay Kumar',\n",
       " 'RA Jadeja',\n",
       " 'RG Sharma',\n",
       " 'RV Uthappa',\n",
       " 'S Badrinath',\n",
       " 'S Dhawan',\n",
       " 'SK Raina',\n",
       " 'SPD Smith',\n",
       " 'SS Tiwary',\n",
       " 'STR Binny',\n",
       " 'V Kohli',\n",
       " 'WP Saha',\n",
       " 'Y Venugopal Rao',\n",
       " 'YK Pathan',\n",
       " 'Yuvraj Singh']"
      ]
     },
     "execution_count": 102,
     "metadata": {},
     "output_type": "execute_result"
    }
   ],
   "source": [
    "batsmanlist=allbatsman[x].index.tolist()\n",
    "batsmanlist"
   ]
  },
  {
   "cell_type": "code",
   "execution_count": 123,
   "id": "4248b71b-6462-42eb-8564-65d8714f1cc9",
   "metadata": {},
   "outputs": [],
   "source": [
    "#runs scored by all these 43 batsman\n",
    "#balls played by these 43 batsman\n",
    "\n",
    "final=dOver[dOver['batsman'].isin(batsmanlist)]"
   ]
  },
  {
   "cell_type": "code",
   "execution_count": 124,
   "id": "af2b973c-6643-44c6-b6e1-a45309837794",
   "metadata": {},
   "outputs": [],
   "source": [
    "runns=final.groupby('batsman')['batsman_runs'].sum()"
   ]
  },
  {
   "cell_type": "code",
   "execution_count": 125,
   "id": "5f0079ce-c984-4525-9ab7-2c84b029fdf5",
   "metadata": {},
   "outputs": [],
   "source": [
    "ballls=final.groupby('batsman')['batsman_runs'].count()"
   ]
  },
  {
   "cell_type": "code",
   "execution_count": 127,
   "id": "9fede847-9d4a-425d-99fd-d9c3992fa17b",
   "metadata": {},
   "outputs": [],
   "source": [
    "sr=(runns/ballls)*100"
   ]
  },
  {
   "cell_type": "code",
   "execution_count": 122,
   "id": "dc732ed8-44ad-4e64-b226-4f668db58f03",
   "metadata": {},
   "outputs": [
    {
     "data": {
      "text/plain": [
       "batsman\n",
       "A Mishra             89.005236\n",
       "AB de Villiers      145.129059\n",
       "AD Mathews          120.868114\n",
       "AM Rahane           117.486549\n",
       "AR Patel            122.672065\n",
       "AT Rayudu           123.014257\n",
       "BJ Hodge            121.422376\n",
       "DA Miller           137.709251\n",
       "DA Warner           138.318401\n",
       "DJ Bravo            122.286822\n",
       "DJ Hussey           120.072661\n",
       "DPMD Jayawardene    118.791064\n",
       "Harbhajan Singh     135.194585\n",
       "IK Pathan           116.751269\n",
       "JA Morkel           136.938202\n",
       "JH Kallis           105.936272\n",
       "JP Duminy           121.970624\n",
       "JP Faulkner         129.802956\n",
       "KA Pollard          140.621266\n",
       "KD Karthik          123.008475\n",
       "KM Jadhav           130.555556\n",
       "LRPL Taylor         120.070838\n",
       "MK Pandey           116.938453\n",
       "MK Tiwary           114.127424\n",
       "MS Dhoni            132.835821\n",
       "NV Ojha             114.528024\n",
       "P Kumar             105.263158\n",
       "PP Chawla           110.278373\n",
       "R Vinay Kumar       106.666667\n",
       "RA Jadeja           118.792867\n",
       "RG Sharma           128.497251\n",
       "RV Uthappa          127.635135\n",
       "S Badrinath         115.742972\n",
       "S Dhawan            118.502496\n",
       "SK Raina            134.995548\n",
       "SPD Smith           128.507127\n",
       "SS Tiwary           114.851485\n",
       "STR Binny           123.747981\n",
       "V Kohli             126.588437\n",
       "WP Saha             127.727646\n",
       "Y Venugopal Rao     113.872832\n",
       "YK Pathan           140.751445\n",
       "Yuvraj Singh        126.390244\n",
       "Name: batsman_runs, dtype: float64"
      ]
     },
     "execution_count": 122,
     "metadata": {},
     "output_type": "execute_result"
    }
   ],
   "source": [
    "sr"
   ]
  },
  {
   "cell_type": "code",
   "execution_count": null,
   "id": "845c7937-a9c5-4b40-8bbd-6d2e3970a05d",
   "metadata": {},
   "outputs": [],
   "source": []
  }
 ],
 "metadata": {
  "kernelspec": {
   "display_name": "Python 3 (ipykernel)",
   "language": "python",
   "name": "python3"
  },
  "language_info": {
   "codemirror_mode": {
    "name": "ipython",
    "version": 3
   },
   "file_extension": ".py",
   "mimetype": "text/x-python",
   "name": "python",
   "nbconvert_exporter": "python",
   "pygments_lexer": "ipython3",
   "version": "3.12.4"
  }
 },
 "nbformat": 4,
 "nbformat_minor": 5
}
